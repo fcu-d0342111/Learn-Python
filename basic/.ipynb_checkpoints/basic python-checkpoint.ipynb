{
 "cells": [
  {
   "cell_type": "code",
   "execution_count": 1,
   "metadata": {},
   "outputs": [
    {
     "name": "stdout",
     "output_type": "stream",
     "text": [
      "01_basic.py            10_function.py         grade2.csv\r\n",
      "01_compute.py          10_gradebook.py        \u001b[34mimages\u001b[m\u001b[m/\r\n",
      "01_string.py           10_module.py           lesson2.ipynb\r\n",
      "02_control.py          20_numpy               \u001b[34moutput\u001b[m\u001b[m/\r\n",
      "02_csv.py              20_pandas.py           test-new.csv\r\n",
      "02_dic.py              DataFrame.ipynb        test.ipynb\r\n",
      "02_file.py             Day02_file_plot.ipynb  testc.csv\r\n",
      "02_list.py             Lesson3.ipynb          testx.xlsx\r\n",
      "02_list2.py            Lesson4_ML.ipynb       try.py\r\n",
      "02_set.py              ML_teacher.ipynb       untitled\r\n",
      "03_date.py             Untitled.ipynb         untitled1\r\n",
      "10_class.py            grade.csv\r\n",
      "10_class2.py           grade.xlsx\r\n"
     ]
    }
   ],
   "source": [
    "%ls"
   ]
  },
  {
   "cell_type": "code",
   "execution_count": null,
   "metadata": {
    "collapsed": true
   },
   "outputs": [],
   "source": [
    "# %load 01_basic.py\n",
    "#\n",
    "# HELLO WORLD\n",
    "#\n",
    "print (\"Hello world\")\n",
    "\n",
    "# variable: string\n",
    "name = 'nick'\n",
    "print (\"Hello world, \" + name)\n",
    "name = 'Anna'\n",
    "print (\"Hello world, \" + name)\n",
    "\n",
    "# variable: int\n",
    "age = 12\n",
    "print ('The age of ' + name + ' is ' + age)\n",
    "\n",
    "# DATA TYPES \n",
    "\n",
    "# determine the type of an object\n",
    "type(2)         # returns 'int'\n",
    "type(2.0)       # returns 'float'\n",
    "type('two')     # returns 'str'\n",
    "type(True)      # returns 'bool'\n",
    "type(None)      # returns 'NoneType'\n",
    "\n",
    "# check if an object is of a given type\n",
    "isinstance(2.0, int)            # returns False\n",
    "isinstance(2.0, (int, float))   # returns True\n",
    "\n",
    "# convert an object to a given type\n",
    "float(2)\n",
    "int(2.9)\n",
    "str(2.9)\n",
    "\n",
    "# zero, None, and empty containers are converted to False\n",
    "bool(0)\n",
    "bool(None)\n",
    "bool('')    # empty string\n",
    "bool([])    # empty list\n",
    "bool({})    # empty dictionary\n",
    "\n",
    "# non-empty containers and non-zeros are converted to True\n",
    "bool(2)\n",
    "bool('two')\n",
    "bool([2])\n",
    "\n",
    "# INPUT\n",
    "\n",
    "name = input(\"You name? \")\n",
    "print (name)\n",
    "age = int(input(\"Your age? \"))\n",
    "if age < 20:\n",
    "   print (name, \", You are so young\")\n",
    "\n",
    "x = 100; grade = [12, 45, 90]\n",
    "x in grade\n",
    "x not in grade"
   ]
  },
  {
   "cell_type": "code",
   "execution_count": 8,
   "metadata": {},
   "outputs": [
    {
     "name": "stdout",
     "output_type": "stream",
     "text": [
      "hello, nick, you look like 12\n"
     ]
    }
   ],
   "source": [
    "# variable: int\n",
    "name = 'nick'\n",
    "age = 12\n",
    "print ('hello %s, you look like %d' % (name, age))\n"
   ]
  },
  {
   "cell_type": "code",
   "execution_count": 11,
   "metadata": {},
   "outputs": [
    {
     "data": {
      "text/plain": [
       "5.5"
      ]
     },
     "execution_count": 11,
     "metadata": {},
     "output_type": "execute_result"
    }
   ],
   "source": [
    "round(5.49, 1)\t# 5.5\n"
   ]
  },
  {
   "cell_type": "code",
   "execution_count": 50,
   "metadata": {},
   "outputs": [
    {
     "name": "stdout",
     "output_type": "stream",
     "text": [
      "matrix 0 0 = 1\n",
      "matrix 0 1 = 2\n",
      "matrix 0 2 = 3\n",
      "matrix 1 0 = 4\n",
      "matrix 1 1 = 5\n",
      "matrix 1 2 = 6\n",
      "matrix 2 0 = 7\n",
      "matrix 2 1 = 8\n",
      "matrix 2 2 = 9\n",
      "matrix 3 0 = 10\n",
      "matrix 3 1 = 11\n",
      "matrix 3 2 = 12\n",
      "matrix 4 0 = 13\n",
      "matrix 4 1 = 14\n",
      "matrix 4 2 = 15\n"
     ]
    }
   ],
   "source": [
    "matrix = [[1, 2, 3], [4, 5, 6], [7, 8, 9], [10, 11, 12]]\n",
    "\n",
    "# examine a list\n",
    "matrix[2]           # [7, 8, 9] \n",
    "matrix[2][0]        # 7\n",
    "\n",
    "# append\n",
    "matrix += [[13, 14, 15]]\n",
    "matrix\n",
    "\n",
    "for i, row in enumerate(matrix):\n",
    "    for j, element in enumerate(row):\n",
    "        print ('matrix', i, j, '=', element)\n"
   ]
  },
  {
   "cell_type": "code",
   "execution_count": 53,
   "metadata": {},
   "outputs": [
    {
     "name": "stdout",
     "output_type": "stream",
     "text": [
      "True\n",
      "False\n"
     ]
    }
   ],
   "source": [
    "a = [1,2,3]\n",
    "b = [1,2,3]\n",
    "a is b\n",
    "\n",
    "print (b == a)\n",
    "print (b is a)\n"
   ]
  },
  {
   "cell_type": "code",
   "execution_count": 56,
   "metadata": {},
   "outputs": [
    {
     "name": "stdout",
     "output_type": "stream",
     "text": [
      "<_csv.reader object at 0x103e699e8>\n"
     ]
    }
   ],
   "source": [
    "grade = []\n",
    "import csv\n",
    "f = open('grade.csv', 'r')\n",
    "grade_str = list(csv.reader(f))\n",
    "print(grade_str)\n",
    "\n",
    "grade=[]\n",
    "for s in grade_str:\n",
    "    grade.append(list(map(int, s)))"
   ]
  },
  {
   "cell_type": "code",
   "execution_count": 59,
   "metadata": {},
   "outputs": [
    {
     "data": {
      "text/plain": [
       "[[1, 12, 23], [67, 78, 89], [34, 45, 56]]"
      ]
     },
     "execution_count": 59,
     "metadata": {},
     "output_type": "execute_result"
    }
   ],
   "source": [
    "grade = [[100,98,23], [67,78,89], [34,45,56]]\n",
    "sorted(grade, key=lambda x: sum(x))\n",
    "grade\n"
   ]
  },
  {
   "cell_type": "markdown",
   "metadata": {},
   "source": [
    "## basic concept\n",
    "\n",
    "* 區塊。用空白或 tab 來做排版控制「程式區塊」（block），而非 \\{\\}。\n",
    "* 變數。變數不需要宣告型態。\n",
    "* 字串。單引號或是雙引號都可以表示字串。\n",
    "* 輸出。可以輸出字串。\n",
    "* 匯入。透過 import 匯入模組，函數或物件。\n",
    "* 註解。註解是使用 # 來引領，或是三個單引號 \"\"\" 來包圍， 而非 //\n",
    "\n",
    "\n",
    "### 變數"
   ]
  },
  {
   "cell_type": "code",
   "execution_count": 3,
   "metadata": {},
   "outputs": [
    {
     "name": "stdout",
     "output_type": "stream",
     "text": [
      "Nick\n",
      "100 200\n"
     ]
    }
   ],
   "source": [
    "name = 'Nick'\n",
    "print (name)\n",
    "name = 'John' # 字串\n",
    "x=100; y=200 # 整數\n",
    "print (x,y)"
   ]
  },
  {
   "cell_type": "markdown",
   "metadata": {},
   "source": [
    "### 區塊"
   ]
  },
  {
   "cell_type": "code",
   "execution_count": 8,
   "metadata": {},
   "outputs": [
    {
     "name": "stdout",
     "output_type": "stream",
     "text": [
      "Hello, \n",
      "Nick\n"
     ]
    }
   ],
   "source": [
    "firstMeet = True\n",
    "if firstMeet:\n",
    "    print (\"Hello, \")\n",
    "    print (\"Nick\")\n",
    "# Python 是透過內縮來判斷區塊的，不是 {}"
   ]
  },
  {
   "cell_type": "code",
   "execution_count": null,
   "metadata": {
    "collapsed": true
   },
   "outputs": [],
   "source": []
  },
  {
   "cell_type": "code",
   "execution_count": null,
   "metadata": {
    "collapsed": true
   },
   "outputs": [],
   "source": []
  },
  {
   "cell_type": "code",
   "execution_count": null,
   "metadata": {
    "collapsed": true
   },
   "outputs": [],
   "source": []
  },
  {
   "cell_type": "code",
   "execution_count": null,
   "metadata": {
    "collapsed": true
   },
   "outputs": [],
   "source": []
  },
  {
   "cell_type": "code",
   "execution_count": null,
   "metadata": {
    "collapsed": true
   },
   "outputs": [],
   "source": []
  },
  {
   "cell_type": "code",
   "execution_count": null,
   "metadata": {
    "collapsed": true
   },
   "outputs": [],
   "source": [
    ">> 不會印出  Hello, Nick。因為 3-4 行都屬於同一個區塊。 \n",
    "\n",
    "# ERROR，同一層內縮的距離要一樣\n",
    "# 需要內縮多少？通常 3-4 個都可以，但同一區塊縮的個數要一樣\n",
    "if True:\n",
    "    print (Answer)\n",
    "    print (True)\n",
    "else:\n",
    "    print (Answer)\n",
    "  print (False)\n",
    "\\end{lstlisting}  \n",
    "  \n",
    "\\subsection{註解}\n",
    "  \n",
    "\\begin{lstlisting}  \t\t\t\t\t\t\n",
    "# 這是一行註解\n",
    "\n",
    "\"\"\"\n",
    "Hello, 這是一個\n",
    "多行註解\n",
    "\"\"\"  \t\t\n",
    "\n",
    "''' 這樣也是多行註解，\n",
    "三個單引號或三個雙引號都可以 '''\n",
    "x = 100; y=200 # 利用 ; 來區分敘述句\n",
    "\t\t\t\t\n",
    "# multiple assignment, 多個變數一次指定\n",
    "x = y = 100\n",
    "name, eng, math, phy = \"Nick\", 92, 88, 32\t\n",
    "\n",
    "# 寫在 function 下的說明，稱為 docstring\n",
    "def add(x, y):\n",
    "\"\"\" 這個方法會把 x 與 y 相加，回傳回去 \"\"\"\n",
    "# docstring 可以透過 \\_\\_doc \\_\\_ 或 help 來取得\n",
    "print (add.__doc__)\n",
    ">> 這個方法會把 x 與 y 相加，回傳回去\n",
    "help (add())\n",
    "\\end{lstlisting}  \n",
    "\n",
    "Python 非常有彈性，如果 docstring 只有一行，也可以用一個單引號，例如 \\lstinline{'這個方法會把 x 與 y 相加，回傳回去'}，但注意只能用在單行註解。\n",
    "\n",
    "\\subsection{輸入與輸出}\n",
    "\n",
    "輸入：\n",
    "\n",
    "\\begin{lstlisting}\n",
    "name = input(\"You name? \")\n",
    "print (name)\n",
    "age = int(input(\"Your age? \"))\n",
    "if age < 20:\n",
    "   print (name, \", You are so young\")\n",
    "\\end{lstlisting}\n",
    "\n",
    "輸出：\n",
    "\n",
    "\\showCode{1}{basic/02_file.py}\n",
    "\\showOutput{basic/output/02_file.txt}\n",
    "\n",
    "\n",
    "\\subsection{運算}\n",
    "\n",
    "\\begin{enumerate}\n",
    "\n",
    "\\item 加減乘除\n",
    "\\begin{lstlisting}\n",
    "# + - * /\n",
    "avg = ((eng + math) * 1.1 )/5\n",
    "# floor division //\n",
    "(90-30)//11 #  忽略小數\n",
    "\n",
    "# 四捨五入\n",
    "print (round(5.5), round(5.49))\n",
    "round ((90-30)/11, 2) # 取小數下兩位 \n",
    "# 平方\n",
    "5**2  \n",
    "# 餘數 %\n",
    "10 % 3 \n",
    "import math\n",
    "math.ceil(10.1) # 無條件進入\n",
    "\\end{lstlisting}\n",
    "\n",
    "\\item 邏輯運算\n",
    "\\begin{lstlisting}\n",
    "# and\n",
    "if (isPrime and isSmall):\n",
    "# or \n",
    "if (isStudent or isKid):\n",
    "# Not\n",
    "if Not(isStudent or isKid):\n",
    "\n",
    "# 比較運算元\n",
    "== 等於\n",
    ">= 大於等於\n",
    "!= 不等於\n",
    "\n",
    "# 成員（membership）: in, not in\n",
    "x = 100; grade = [12, 45, 90]\n",
    "x in grade\n",
    ">> False\n",
    "x not in grade\n",
    ">> True\n",
    "\\end{lstlisting}\n",
    "\n",
    "\\item Assignment\n",
    "\\begin{lstlisting}\n",
    "# +=\n",
    "sum += a\n",
    "sum = sum + a\n",
    "# 同理，*=, /=, %=, **=\n",
    "\\end{lstlisting}\n",
    "\n",
    "\\item Identity operator: 檢驗兩物件是否指到同一個空間\n",
    "\\begin{lstlisting}\n",
    "a = [1,2,3]\n",
    "b = [1,2,3]\n",
    "a is b\n",
    ">> False\n",
    "a is not b\n",
    ">> True\n",
    "\n",
    "c = a\n",
    "c is a\n",
    ">> True\n",
    "\\end{lstlisting}\n",
    "\n",
    "\\end{enumerate}"
   ]
  },
  {
   "cell_type": "code",
   "execution_count": null,
   "metadata": {
    "collapsed": true
   },
   "outputs": [],
   "source": [
    "# %load 01_basic.py\n",
    "#!/usr/bin/env python3\n",
    "\n",
    "\"\"\" Vaiable, string, is, \n",
    "\"\"\"\n",
    "\n",
    "name = input(\"You name? \")\n",
    "print (name)\n",
    "age = int(input(\"Your age? \"))\n",
    "if age < 20:\n",
    "   print (name, \", You are so young\")\n",
    "\n",
    "\n",
    "x = 100; grade = [12, 45, 90]\n",
    "x in grade\n",
    "x not in grade\n",
    "\n",
    "\n"
   ]
  },
  {
   "cell_type": "code",
   "execution_count": null,
   "metadata": {
    "collapsed": true
   },
   "outputs": [],
   "source": []
  }
 ],
 "metadata": {
  "kernelspec": {
   "display_name": "Python 3",
   "language": "python",
   "name": "python3"
  },
  "language_info": {
   "codemirror_mode": {
    "name": "ipython",
    "version": 3
   },
   "file_extension": ".py",
   "mimetype": "text/x-python",
   "name": "python",
   "nbconvert_exporter": "python",
   "pygments_lexer": "ipython3",
   "version": "3.6.1"
  }
 },
 "nbformat": 4,
 "nbformat_minor": 2
}
