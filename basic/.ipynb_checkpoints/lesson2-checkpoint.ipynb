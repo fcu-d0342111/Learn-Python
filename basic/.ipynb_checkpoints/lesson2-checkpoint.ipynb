{
 "cells": [
  {
   "cell_type": "markdown",
   "metadata": {},
   "source": [
    "# Lession 2: transformation between different type"
   ]
  },
  {
   "cell_type": "markdown",
   "metadata": {},
   "source": [
    "## String to list"
   ]
  },
  {
   "cell_type": "code",
   "execution_count": 1,
   "metadata": {},
   "outputs": [
    {
     "name": "stdout",
     "output_type": "stream",
     "text": [
      "['I', ' ', 'l', 'i', 'k', 'e', ' ', 'a', 'p', 'p', 'l', 'e']\n"
     ]
    }
   ],
   "source": [
    "s = 'I like apple'\n",
    "aList = list(s)\n",
    "print (aList)"
   ]
  },
  {
   "cell_type": "code",
   "execution_count": 2,
   "metadata": {},
   "outputs": [
    {
     "data": {
      "text/plain": [
       "['l', 'i', 'k', 'e', ' ', 'a', 'p', 'p', 'l', 'e']"
      ]
     },
     "execution_count": 2,
     "metadata": {},
     "output_type": "execute_result"
    }
   ],
   "source": [
    "aList[2:]"
   ]
  },
  {
   "cell_type": "code",
   "execution_count": 3,
   "metadata": {},
   "outputs": [
    {
     "name": "stdout",
     "output_type": "stream",
     "text": [
      "['I', 'like', 'apple']\n"
     ]
    }
   ],
   "source": [
    "f = s.split()\n",
    "print (f)"
   ]
  },
  {
   "cell_type": "markdown",
   "metadata": {},
   "source": [
    "## Tuple\n",
    "* is im-mutable"
   ]
  },
  {
   "cell_type": "code",
   "execution_count": 7,
   "metadata": {},
   "outputs": [
    {
     "name": "stdout",
     "output_type": "stream",
     "text": [
      "12\n",
      "(12, 23, 34, 45)\n"
     ]
    }
   ],
   "source": [
    "g = (12,23,34,45)\n",
    "print (g[0])\n",
    "#print (g(0))\n",
    "print (g)"
   ]
  },
  {
   "cell_type": "markdown",
   "metadata": {},
   "source": [
    "## Using % to replace string"
   ]
  },
  {
   "cell_type": "code",
   "execution_count": 14,
   "metadata": {},
   "outputs": [
    {
     "name": "stdout",
     "output_type": "stream",
     "text": [
      "My englisht is 90, math is 100.00, phy is 20.00, sum is: 210.00\n"
     ]
    }
   ],
   "source": [
    "s = \"My englisht is %d, math is %.2f, phy is %.2f, sum is: %.2f\" % (90, 100, 20, 210)\n",
    "print (s)"
   ]
  },
  {
   "cell_type": "code",
   "execution_count": 16,
   "metadata": {},
   "outputs": [
    {
     "name": "stdout",
     "output_type": "stream",
     "text": [
      "Please input your age12\n",
      "Please input your jobprogrammer\n",
      "Your are a programmer at age 12\n"
     ]
    }
   ],
   "source": [
    "strAge = input(\"Please input your age\")\n",
    "job = input(\"Please input your job\")\n",
    "profile = (job, strAge)\n",
    "strProfile = \"Your are a %s at age %s\"\n",
    "print (strProfile % profile)"
   ]
  },
  {
   "cell_type": "markdown",
   "metadata": {},
   "source": [
    "## dict"
   ]
  },
  {
   "cell_type": "code",
   "execution_count": 41,
   "metadata": {},
   "outputs": [
    {
     "name": "stdout",
     "output_type": "stream",
     "text": [
      "dict_keys(['eng', 'math', 'phy'])\n",
      "dict_values([12, 100, 34])\n",
      "dict_items([('eng', 12), ('math', 100), ('phy', 34)])\n",
      "eng 12\n",
      "math 100\n",
      "phy 34\n",
      "3\n"
     ]
    }
   ],
   "source": [
    "grade1 = dict(eng=12, math=100, phy=34)\n",
    "grade2 = {'eng':12, 'math':100, 'phy':34}\n",
    "gradeSet = [grade1, grade2]\n",
    "print(grade.keys())\n",
    "print(grade2.values())\n",
    "print (grade1.items())\n",
    "for i in grade1:\n",
    "    print (i, grade[i])\n",
    "    \n",
    "w = dict(monday=1, tuesday=2)    \n",
    "sum = 0\n",
    "for i in w:\n",
    "    sum += w[i]\n",
    "print (sum)    "
   ]
  },
  {
   "cell_type": "code",
   "execution_count": 45,
   "metadata": {},
   "outputs": [],
   "source": [
    "inventory = {\n",
    "    \"coin\": 100,\n",
    "    \"wallet\": [\"student card\", \"paper\"],\n",
    "    \"backpack\": {\n",
    "        \"phone\": 1,\n",
    "        \"tablet\": 1,\n",
    "        \"book\": 2\n",
    "    }\n",
    "}"
   ]
  },
  {
   "cell_type": "code",
   "execution_count": 50,
   "metadata": {},
   "outputs": [
    {
     "name": "stdout",
     "output_type": "stream",
     "text": [
      "3\n"
     ]
    }
   ],
   "source": [
    "print (inventory[\"backpack\"][\"phone\"]+2)"
   ]
  },
  {
   "cell_type": "markdown",
   "metadata": {},
   "source": [
    "## set"
   ]
  },
  {
   "cell_type": "code",
   "execution_count": 56,
   "metadata": {
    "collapsed": true
   },
   "outputs": [],
   "source": [
    "A = {1,1,2,2,3,\"a\",4,5}"
   ]
  },
  {
   "cell_type": "code",
   "execution_count": 57,
   "metadata": {},
   "outputs": [
    {
     "name": "stdout",
     "output_type": "stream",
     "text": [
      "{1, 2, 3, 4, 5, 'a'}\n"
     ]
    }
   ],
   "source": [
    "print (A)"
   ]
  },
  {
   "cell_type": "code",
   "execution_count": 60,
   "metadata": {},
   "outputs": [],
   "source": [
    "A.add(100)"
   ]
  },
  {
   "cell_type": "code",
   "execution_count": 62,
   "metadata": {},
   "outputs": [
    {
     "data": {
      "text/plain": [
       "{1, 2, 3, 4, 5, 100, 'a'}"
      ]
     },
     "execution_count": 62,
     "metadata": {},
     "output_type": "execute_result"
    }
   ],
   "source": [
    "A"
   ]
  },
  {
   "cell_type": "code",
   "execution_count": 64,
   "metadata": {},
   "outputs": [],
   "source": [
    "A.remove(\"a\")"
   ]
  },
  {
   "cell_type": "code",
   "execution_count": 65,
   "metadata": {},
   "outputs": [
    {
     "data": {
      "text/plain": [
       "100"
      ]
     },
     "execution_count": 65,
     "metadata": {},
     "output_type": "execute_result"
    }
   ],
   "source": [
    "max(A)"
   ]
  },
  {
   "cell_type": "code",
   "execution_count": 67,
   "metadata": {},
   "outputs": [],
   "source": [
    "B = {12,23,45,43}"
   ]
  },
  {
   "cell_type": "code",
   "execution_count": 68,
   "metadata": {},
   "outputs": [
    {
     "data": {
      "text/plain": [
       "{1, 2, 3, 4, 5, 100}"
      ]
     },
     "execution_count": 68,
     "metadata": {},
     "output_type": "execute_result"
    }
   ],
   "source": [
    "A-B"
   ]
  },
  {
   "cell_type": "code",
   "execution_count": 73,
   "metadata": {},
   "outputs": [],
   "source": [
    "d = A.difference(B)\n",
    "x = A.intersection(B)\n",
    "c = A.union(B)"
   ]
  },
  {
   "cell_type": "code",
   "execution_count": 75,
   "metadata": {},
   "outputs": [
    {
     "name": "stdout",
     "output_type": "stream",
     "text": [
      "{1, 2, 3, 4, 5, 100, 43, 12, 45, 23}\n"
     ]
    }
   ],
   "source": [
    "print (c)"
   ]
  },
  {
   "cell_type": "markdown",
   "metadata": {},
   "source": [
    "## define function"
   ]
  },
  {
   "cell_type": "code",
   "execution_count": 81,
   "metadata": {},
   "outputs": [
    {
     "name": "stdout",
     "output_type": "stream",
     "text": [
      "Hello, nick\n",
      "Hello, john\n",
      "Hello, peter\n"
     ]
    }
   ],
   "source": [
    "def say(name):\n",
    "    print (\"Hello,\", name)\n",
    "\n",
    "say('nick')\n",
    "say('john')\n",
    "say('peter')"
   ]
  },
  {
   "cell_type": "markdown",
   "metadata": {},
   "source": [
    "## write a program to show grade of a student"
   ]
  },
  {
   "cell_type": "code",
   "execution_count": 91,
   "metadata": {},
   "outputs": [
    {
     "name": "stdout",
     "output_type": "stream",
     "text": [
      "No in the grade\n",
      "tom  is  100\n",
      "nick  is  90\n",
      "peter  is  80\n"
     ]
    }
   ],
   "source": [
    "grade = {\"tom\":100, \"nick\":90, \"peter\":80}\n",
    "def checkGrade(name):\n",
    "    if (name not in grade.keys()):\n",
    "        print (\"No in the grade\")\n",
    "    else: \n",
    "        print (name, \" is \", grade[name])\n",
    "\n",
    "checkGrade(\"mm\")\n",
    "checkGrade(\"tom\")\n",
    "checkGrade(\"nick\")\n",
    "\n",
    "\n",
    "checkGrade(\"peter\")"
   ]
  },
  {
   "cell_type": "code",
   "execution_count": 94,
   "metadata": {},
   "outputs": [
    {
     "name": "stdout",
     "output_type": "stream",
     "text": [
      "No found\n",
      "No found\n",
      "No found\n",
      "100\n",
      "No found\n",
      "90\n",
      "No found\n",
      "No found\n",
      "80\n"
     ]
    }
   ],
   "source": [
    "# Exercise: what is the problem of the program\n",
    "grade = {\"tom\":100, \"nick\":90, \"peter\":80}\n",
    "def checkGrade(name):\n",
    "    for i in grade:\n",
    "        if (i == name):\n",
    "            print (grade[i])\n",
    "            break\n",
    "        else: \n",
    "            print (\"No found\")    \n",
    "\n",
    "checkGrade(\"mm\")\n",
    "checkGrade(\"tom\")\n",
    "checkGrade(\"nick\")\n",
    "checkGrade(\"peter\")"
   ]
  },
  {
   "cell_type": "code",
   "execution_count": null,
   "metadata": {
    "collapsed": true
   },
   "outputs": [],
   "source": []
  }
 ],
 "metadata": {
  "kernelspec": {
   "display_name": "Python 3",
   "language": "python",
   "name": "python3"
  },
  "language_info": {
   "codemirror_mode": {
    "name": "ipython",
    "version": 3
   },
   "file_extension": ".py",
   "mimetype": "text/x-python",
   "name": "python",
   "nbconvert_exporter": "python",
   "pygments_lexer": "ipython3",
   "version": "3.6.2"
  }
 },
 "nbformat": 4,
 "nbformat_minor": 2
}
